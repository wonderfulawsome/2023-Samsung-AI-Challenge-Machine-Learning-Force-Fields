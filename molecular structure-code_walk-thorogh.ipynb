{
 "cells": [
  {
   "cell_type": "code",
   "execution_count": 1,
   "id": "947cdced",
   "metadata": {},
   "outputs": [],
   "source": [
    "import pandas as pd\n",
    "\n",
    "#xyz파일을 구문 분석할 함수를 정의\n",
    "def parse_xyz(filepath):\n",
    "    molecules=[]\n",
    "    current_molecule=[]\n",
    "    \n",
    "    #파일을 열고 한 줄씩 읽기\n",
    "    with open(filepath,'r') as file:\n",
    "        while True:\n",
    "            #분자의 원자수를 읽어라\n",
    "            line=file.readline()\n",
    "            if not line:\n",
    "                break #EDF\n",
    "            num_atoms=int(line.strip())\n",
    "            \n",
    "            #추가 데이터 포함\n",
    "            comment=file.readline().strip()\n",
    "            \n",
    "             # 이 분자의 데이터를 저장하기 위해 목록을 초기화합니다\n",
    "            atoms = []\n",
    "            coordinates = []\n",
    "            \n",
    "            #각 원자의 데이터를 읽는다\n",
    "            for _ in range(num_atoms):\n",
    "                atom_data=file.readline().strip().split()\n",
    "                atoms.append(atom_data[0])\n",
    "                coordinates.append([float(coord) for coord in atom_data[1:4]])\n",
    "                \n",
    "                #분자 데이터 저장\n",
    "                current_molecule={\n",
    "                    'num_atoms':num_atoms,\n",
    "                    'comment':comment,\n",
    "                    'atoms':atoms,\n",
    "                    'coordinates':coordinates\n",
    "                }\n",
    "                molecules.append(current_molecule)\n",
    "            \n",
    "        return molecules\n",
    "                \n",
    "                \n",
    "                "
   ]
  },
  {
   "cell_type": "code",
   "execution_count": 2,
   "id": "287451fa",
   "metadata": {},
   "outputs": [],
   "source": [
    "# 훈련데이터 \n",
    "train_data = parse_xyz('C:/Users/82106/Desktop/데이터분석 프로젝트/삼성 경진대회/open/train.xyz')"
   ]
  },
  {
   "cell_type": "code",
   "execution_count": 3,
   "id": "26e75bd3",
   "metadata": {},
   "outputs": [],
   "source": [
    "from sklearn.ensemble import RandomForestRegressor\n",
    "from sklearn.model_selection import train_test_split\n",
    "from sklearn.metrics import mean_squared_error\n",
    "import numpy as np\n",
    "\n",
    "# 데이터 세트에서 특징 및 레이블 추출\n",
    "def extract_features_labels(molecules):\n",
    "    features = []\n",
    "    labels = []\n",
    "    \n",
    "    for molecule in molecules:\n",
    "        # 좌표와 힘을 하나의 리스트로 평탄화합니다\n",
    "        flat_coordinates = np.array(molecule['coordinates']).flatten()\n",
    "        energy = float(molecule['comment'].split()[5])\n",
    "        \n",
    "        features.append(flat_coordinates)\n",
    "        labels.append(energy)\n",
    "        \n",
    "    return features, labels\n",
    "# train data에 energy 에서 comment 평탄화한 특성 추가하기\n",
    "features, labels = extract_features_labels(train_data)\n",
    "    "
   ]
  },
  {
   "cell_type": "code",
   "execution_count": 4,
   "id": "ac420601",
   "metadata": {},
   "outputs": [],
   "source": [
    "#max_features=최대 len (features 만큼 반복)\n",
    "max_features=max(len(feature) for feature in features)\n",
    "\n",
    "# pad features numpy 기능 정의\n",
    "def pad_features_numpy(features, max_features_length):\n",
    "    #padded_features = 0, max 특성에서 feature 길이를 뺀것 -> pad 처리\n",
    "    padded_features= [np.pad(feature,\n",
    "                            (0,max_features_length-len(feature)),\n",
    "                            'constant',constant_values=0)\n",
    "                      for feature in features]\n",
    "    return np.array(padded_features)\n",
    "\n",
    "#새로운 pad features numpy 추가\n",
    "padded_features=pad_features_numpy(features,max_features)\n",
    "\n"
   ]
  },
  {
   "cell_type": "code",
   "execution_count": 5,
   "id": "56dd9761",
   "metadata": {},
   "outputs": [
    {
     "data": {
      "text/plain": [
       "(1027980, 256995, 1027980, 256995)"
      ]
     },
     "execution_count": 5,
     "metadata": {},
     "output_type": "execute_result"
    }
   ],
   "source": [
    "#데이터 분할\n",
    "X_train,X_test,y_train,y_test=train_test_split(features,\n",
    "                                              labels,\n",
    "                                              test_size=0.2)\n",
    "len(X_train),len(X_test),len(y_train),len(y_test)"
   ]
  },
  {
   "cell_type": "code",
   "execution_count": 6,
   "id": "5e51ca4c",
   "metadata": {},
   "outputs": [
    {
     "name": "stderr",
     "output_type": "stream",
     "text": [
      "C:\\Users\\82106\\AppData\\Local\\Temp\\ipykernel_10124\\4043666626.py:5: VisibleDeprecationWarning: Creating an ndarray from ragged nested sequences (which is a list-or-tuple of lists-or-tuples-or ndarrays with different lengths or shapes) is deprecated. If you meant to do this, you must specify 'dtype=object' when creating the ndarray.\n",
      "  X_train=np.array(X_train)\n",
      "C:\\Users\\82106\\AppData\\Local\\Temp\\ipykernel_10124\\4043666626.py:6: VisibleDeprecationWarning: Creating an ndarray from ragged nested sequences (which is a list-or-tuple of lists-or-tuples-or ndarrays with different lengths or shapes) is deprecated. If you meant to do this, you must specify 'dtype=object' when creating the ndarray.\n",
      "  X_test=np.array(X_test)\n"
     ]
    }
   ],
   "source": [
    "#랜덤 포레스트 생성\n",
    "rf_model=RandomForestRegressor(n_estimators=10,max_depth=5,\n",
    "                               random_state=42)\n",
    "#각 리스트를 numpy로 변환\n",
    "X_train=np.array(X_train)\n",
    "X_test=np.array(X_test)\n",
    "y_train=np.array(y_train)\n",
    "y_test=np.array(y_test)"
   ]
  },
  {
   "cell_type": "code",
   "execution_count": 7,
   "id": "bfbf98b5",
   "metadata": {},
   "outputs": [],
   "source": [
    "#데이터 크기를 10%로 낮추기 \n",
    "sample_size= int(0.1 * len(X_train))\n",
    "\n",
    "#indices 변수에 sample_size 개수의 랜덤한 데이터 포인트의 인덱스가 저장\n",
    "np.random.seed(42)\n",
    "indices=np.random.choice(range(len(X_train)),\n",
    "                        sample_size,\n",
    "                        replace=False)\n",
    "\n",
    "X_train_sample=X_train[indices]\n",
    "y_train_sample=y_train[indices]"
   ]
  },
  {
   "cell_type": "code",
   "execution_count": 8,
   "id": "991b75be",
   "metadata": {},
   "outputs": [
    {
     "data": {
      "text/plain": [
       "(102798, 102798)"
      ]
     },
     "execution_count": 8,
     "metadata": {},
     "output_type": "execute_result"
    }
   ],
   "source": [
    "len(X_train_sample),len(y_train_sample)"
   ]
  },
  {
   "cell_type": "code",
   "execution_count": 9,
   "id": "49443d72",
   "metadata": {},
   "outputs": [],
   "source": [
    "most_common_length = 48\n",
    "\n",
    "#X_train_sample의 각 데이터 포인트를 패딩 또는 자르기를 사용하여 동일한 길이로 조정하는 작업\n",
    "X_train_sample_adjusted=np.array([np.pad(x,(0,most_common_length-len(x)),\n",
    "                                        'constant') if len(x)<most_common_length else x[:most_common_length] for x in X_train_sample])\n",
    "# X_test의 각 데이터 포인트를 조정\n",
    "X_test_adjusted = np.array([np.pad(x, (0, max(0, most_common_length - len(x))), 'constant', constant_values=0)\n",
    "                            if len(x) < most_common_length \n",
    "                            else x[:most_common_length] \n",
    "                            for x in X_test])"
   ]
  },
  {
   "cell_type": "code",
   "execution_count": 10,
   "id": "52826f00",
   "metadata": {},
   "outputs": [
    {
     "data": {
      "text/plain": [
       "RandomForestRegressor(max_depth=5, n_estimators=10, random_state=42)"
      ]
     },
     "execution_count": 10,
     "metadata": {},
     "output_type": "execute_result"
    }
   ],
   "source": [
    "# 길이를 맞춘 X_train_sample_adjusted 로 학습하기\n",
    "rf_model.fit(X_train_sample_adjusted,y_train_sample)"
   ]
  },
  {
   "cell_type": "code",
   "execution_count": 11,
   "id": "08d3d56a",
   "metadata": {},
   "outputs": [],
   "source": [
    "#예측 진행\n",
    "predictions=rf_model.predict(X_test_adjusted)"
   ]
  },
  {
   "cell_type": "code",
   "execution_count": 12,
   "id": "f9ac4cc0",
   "metadata": {},
   "outputs": [
    {
     "data": {
      "text/plain": [
       "0.044951758470363305"
      ]
     },
     "execution_count": 12,
     "metadata": {},
     "output_type": "execute_result"
    }
   ],
   "source": [
    "rmse=np.sqrt(mean_squared_error(y_test,predictions))\n",
    "rmse"
   ]
  },
  {
   "cell_type": "markdown",
   "id": "f744a358",
   "metadata": {},
   "source": [
    "### CatBoost"
   ]
  },
  {
   "cell_type": "code",
   "execution_count": 13,
   "id": "ff45f049",
   "metadata": {
    "scrolled": true
   },
   "outputs": [
    {
     "name": "stdout",
     "output_type": "stream",
     "text": [
      "Requirement already satisfied: catboost in c:\\users\\82106\\anaconda3\\lib\\site-packages (1.2.2)\n",
      "Requirement already satisfied: numpy>=1.16.0 in c:\\users\\82106\\anaconda3\\lib\\site-packages (from catboost) (1.22.4)\n",
      "Requirement already satisfied: matplotlib in c:\\users\\82106\\anaconda3\\lib\\site-packages (from catboost) (3.5.1)\n",
      "Requirement already satisfied: graphviz in c:\\users\\82106\\anaconda3\\lib\\site-packages (from catboost) (0.20.1)\n",
      "Requirement already satisfied: pandas>=0.24 in c:\\users\\82106\\anaconda3\\lib\\site-packages (from catboost) (1.4.2)\n",
      "Requirement already satisfied: scipy in c:\\users\\82106\\anaconda3\\lib\\site-packages (from catboost) (1.7.3)\n",
      "Requirement already satisfied: plotly in c:\\users\\82106\\anaconda3\\lib\\site-packages (from catboost) (5.6.0)\n",
      "Requirement already satisfied: six in c:\\users\\82106\\anaconda3\\lib\\site-packages (from catboost) (1.16.0)\n",
      "Requirement already satisfied: pytz>=2020.1 in c:\\users\\82106\\anaconda3\\lib\\site-packages (from pandas>=0.24->catboost) (2023.3.post1)\n",
      "Requirement already satisfied: python-dateutil>=2.8.1 in c:\\users\\82106\\anaconda3\\lib\\site-packages (from pandas>=0.24->catboost) (2.8.2)\n",
      "Requirement already satisfied: cycler>=0.10 in c:\\users\\82106\\anaconda3\\lib\\site-packages (from matplotlib->catboost) (0.11.0)\n",
      "Requirement already satisfied: pyparsing>=2.2.1 in c:\\users\\82106\\anaconda3\\lib\\site-packages (from matplotlib->catboost) (3.0.4)\n",
      "Requirement already satisfied: kiwisolver>=1.0.1 in c:\\users\\82106\\anaconda3\\lib\\site-packages (from matplotlib->catboost) (1.3.2)\n",
      "Requirement already satisfied: packaging>=20.0 in c:\\users\\82106\\anaconda3\\lib\\site-packages (from matplotlib->catboost) (21.3)\n",
      "Requirement already satisfied: fonttools>=4.22.0 in c:\\users\\82106\\anaconda3\\lib\\site-packages (from matplotlib->catboost) (4.25.0)\n",
      "Requirement already satisfied: pillow>=6.2.0 in c:\\users\\82106\\anaconda3\\lib\\site-packages (from matplotlib->catboost) (9.0.1)\n",
      "Requirement already satisfied: tenacity>=6.2.0 in c:\\users\\82106\\anaconda3\\lib\\site-packages (from plotly->catboost) (8.0.1)\n"
     ]
    }
   ],
   "source": [
    "!pip install catboost"
   ]
  },
  {
   "cell_type": "code",
   "execution_count": 14,
   "id": "77b64b63",
   "metadata": {},
   "outputs": [
    {
     "data": {
      "text/plain": [
       "(1027980, 256995, 1027980, 256995)"
      ]
     },
     "execution_count": 14,
     "metadata": {},
     "output_type": "execute_result"
    }
   ],
   "source": [
    "from catboost import CatBoostRegressor\n",
    "\n",
    "X_train,X_test,y_train,y_test=train_test_split(features,\n",
    "                                              labels,\n",
    "                                              test_size=0.2,\n",
    "                                              random_state=123)\n",
    "\n",
    "len(X_train), len(X_test), len(y_train), len(y_test)\n"
   ]
  },
  {
   "cell_type": "code",
   "execution_count": 15,
   "id": "928a5e0a",
   "metadata": {},
   "outputs": [
    {
     "name": "stderr",
     "output_type": "stream",
     "text": [
      "C:\\Users\\82106\\AppData\\Local\\Temp\\ipykernel_10124\\1829161443.py:3: VisibleDeprecationWarning: Creating an ndarray from ragged nested sequences (which is a list-or-tuple of lists-or-tuples-or ndarrays with different lengths or shapes) is deprecated. If you meant to do this, you must specify 'dtype=object' when creating the ndarray.\n",
      "  X_train=np.array(X_train)\n",
      "C:\\Users\\82106\\AppData\\Local\\Temp\\ipykernel_10124\\1829161443.py:4: VisibleDeprecationWarning: Creating an ndarray from ragged nested sequences (which is a list-or-tuple of lists-or-tuples-or ndarrays with different lengths or shapes) is deprecated. If you meant to do this, you must specify 'dtype=object' when creating the ndarray.\n",
      "  X_test=np.array(X_test)\n"
     ]
    }
   ],
   "source": [
    "catboost=CatBoostRegressor(verbose=False,random_seed=42)\n",
    "\n",
    "X_train=np.array(X_train)\n",
    "X_test=np.array(X_test)\n",
    "y_train=np.array(y_train)\n",
    "y_test=np.array(y_test)"
   ]
  },
  {
   "cell_type": "code",
   "execution_count": 16,
   "id": "fd182bc1",
   "metadata": {},
   "outputs": [
    {
     "data": {
      "text/plain": [
       "(102798, 102798)"
      ]
     },
     "execution_count": 16,
     "metadata": {},
     "output_type": "execute_result"
    }
   ],
   "source": [
    "sample_size=int(0.1*len(X_train))\n",
    "\n",
    "#sample_size만큼 선택하기\n",
    "np.random.seed(42)\n",
    "indices=np.random.choice(range(len(X_train)),sample_size,\n",
    "                        replace=False)\n",
    "X_train_sample=X_train[indices]\n",
    "y_train_sample=y_train[indices]\n",
    "\n",
    "len(X_train_sample),len(y_train_sample)"
   ]
  },
  {
   "cell_type": "code",
   "execution_count": 19,
   "id": "b055685e",
   "metadata": {},
   "outputs": [
    {
     "data": {
      "text/plain": [
       "<catboost.core.CatBoostRegressor at 0x221833c69a0>"
      ]
     },
     "execution_count": 19,
     "metadata": {},
     "output_type": "execute_result"
    }
   ],
   "source": [
    "#패딩과 잘라내기를 통해 데이터의 일관된 형식을 유지하거나, 특정 길이로 데이터를 정규화\n",
    "X_train_sample_adjusted=np.array([np.pad(x,\n",
    "                                        (0,\n",
    "                                        most_common_length-len(x)),\n",
    "                                         'constant') if len(x)<most_common_length else x[:most_common_length] for x in X_train_sample])\n",
    "\n",
    "catboost.fit(X_train_sample_adjusted, y_train_sample)"
   ]
  },
  {
   "cell_type": "code",
   "execution_count": 20,
   "id": "182554f4",
   "metadata": {},
   "outputs": [],
   "source": [
    "predictions=catboost.predict(X_test_adjusted)\n",
    "\n"
   ]
  },
  {
   "cell_type": "code",
   "execution_count": 22,
   "id": "05c30230",
   "metadata": {},
   "outputs": [
    {
     "data": {
      "text/plain": [
       "0.28137971750444507"
      ]
     },
     "execution_count": 22,
     "metadata": {},
     "output_type": "execute_result"
    }
   ],
   "source": [
    "rmse=np.sqrt(mean_squared_error(y_test,predictions))\n",
    "rmse"
   ]
  },
  {
   "cell_type": "code",
   "execution_count": 24,
   "id": "78a32923",
   "metadata": {},
   "outputs": [
    {
     "data": {
      "text/plain": [
       "array([-2.04416061e-04, -9.21128779e-05, -2.41823537e-03, ...,\n",
       "       -5.22853412e-04, -3.47931303e-03,  2.38218770e-04])"
      ]
     },
     "execution_count": 24,
     "metadata": {},
     "output_type": "execute_result"
    }
   ],
   "source": [
    "predictions"
   ]
  },
  {
   "cell_type": "code",
   "execution_count": null,
   "id": "f7dc5000",
   "metadata": {},
   "outputs": [],
   "source": []
  }
 ],
 "metadata": {
  "kernelspec": {
   "display_name": "Python 3 (ipykernel)",
   "language": "python",
   "name": "python3"
  },
  "language_info": {
   "codemirror_mode": {
    "name": "ipython",
    "version": 3
   },
   "file_extension": ".py",
   "mimetype": "text/x-python",
   "name": "python",
   "nbconvert_exporter": "python",
   "pygments_lexer": "ipython3",
   "version": "3.9.12"
  }
 },
 "nbformat": 4,
 "nbformat_minor": 5
}
